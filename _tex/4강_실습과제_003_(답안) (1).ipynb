{
  "cells": [
    {
      "cell_type": "markdown",
      "id": "328d9f8a",
      "metadata": {
        "id": "328d9f8a"
      },
      "source": [
        "# 4강 실습 과제"
      ]
    },
    {
      "cell_type": "markdown",
      "id": "e34e99bc",
      "metadata": {
        "id": "e34e99bc"
      },
      "source": [
        "#### 문제 1. 아래의 조건을 만족하는 십진법을 이진법 수로 변환하는 프로그램을 만들어봅시다.\n",
        "+ list.append( ), list.insert( ), list.pop( ) 매서드를 사용하지 않는 조건\n",
        "+ list[index] 연산 사용 가능\n",
        "\n",
        "출력 예시:\n",
        "```\n",
        "100010\n",
        "```"
      ]
    },
    {
      "cell_type": "code",
      "execution_count": null,
      "id": "8a10a880",
      "metadata": {
        "id": "8a10a880",
        "outputId": "9bd14331-1496-4656-9331-dea633d84547"
      },
      "outputs": [
        {
          "name": "stdout",
          "output_type": "stream",
          "text": [
            "[0, 1, 0, 0, 0, 1]\n",
            "100010"
          ]
        }
      ],
      "source": [
        "num_decimal = 34\n",
        "num_binary = [9,9,9,9,9,9]\n",
        "\n",
        "# 아래에 코드 작성\n",
        "\n",
        "i = num_decimal\n",
        "index = 0\n",
        "while i !=0:\n",
        " remainder = i%2\n",
        " num_binary[index] = remainder\n",
        " i=i//2\n",
        " index = index+1\n",
        "\n",
        "index = index-1\n",
        "while index >= 0:\n",
        " print(\"{0}\".format(num_binary[index]), end = \"\")\n",
        " index = index-1"
      ]
    },
    {
      "cell_type": "markdown",
      "id": "aeee6894",
      "metadata": {
        "id": "aeee6894"
      },
      "source": [
        "#### 문제 2. 로그인 프로그램을 만들어봅시다.\n",
        "\n",
        "1. 접속을 시도하는 사용자에게 비밀번호 입력을 요청하기.\n",
        "2. 만약 비밀번호가 맞다면, \"로그인에 성공했습니다.\"를 출력하기.\n",
        "3. 만약 비밀번호가 틀리다면, \"비밀번호가 틀렸습니다. 다시 입력하세요.\"를 출력하고 다시 비밀번호 입력을 요청하기. \n",
        "4. 만약 3번 이상 틀릴 경우, \"로그인에 실패했습니다.\" 출력하기.\n",
        "\n",
        "입출력 예시:\n",
        "```\n",
        "비밀번호를 입력하세요. 1234\n",
        "비밀번호가 틀렸습니다. 다시 입력하세요. 12ed\n",
        "비밀번호가 틀렸습니다. 다시 입력하세요. ed13\n",
        "로그인에 실패했습니다.\n",
        "```"
      ]
    },
    {
      "cell_type": "code",
      "execution_count": null,
      "id": "e7eaa8b5",
      "metadata": {
        "id": "e7eaa8b5",
        "outputId": "fab27f35-481f-46d8-ff53-72979bda8f38"
      },
      "outputs": [
        {
          "name": "stdout",
          "output_type": "stream",
          "text": [
            "비밀번호를 입력하세요. 123\n",
            "비밀번호가 틀렸습니다. 다시 입력하세요. 123\n",
            "비밀번호가 틀렸습니다. 다시 입력하세요. 123\n",
            "로그인에 실패했습니다.\n"
          ]
        }
      ],
      "source": [
        "passwd = \"1edf28**\"\n",
        "trial = input(\"비밀번호를 입력하세요. \")\n",
        "\n",
        "# 아래에 과제 코드 작성.\n",
        "count = 1\n",
        "\n",
        "while count < 3:\n",
        "    if trial == passwd:\n",
        "        print(\"로그인에 성공했습니다.\")\n",
        "        break;\n",
        "    else:\n",
        "        print(\"비밀번호가 틀렸습니다.\", end = \" \")\n",
        "        trial = input(\"다시 입력하세요. \")\n",
        "        count = count + 1\n",
        "        \n",
        "if count == 3:\n",
        "     print(\"로그인에 실패했습니다.\")"
      ]
    },
    {
      "cell_type": "markdown",
      "id": "38c4e628",
      "metadata": {
        "id": "38c4e628"
      },
      "source": [
        "#### 문제 3. 로또 당첨 여부를 확인해주는 프로그램을 만들어봅시다.\n",
        "1. 로또 당첨 번호 6개와 보너스 당첨 번호 1개, 총 7개의 수로 구성된 당첨번호 리스트가 주어져 있다.\n",
        "2. 아래의 기준을 참고하여 로또 당첨 번호를 입력하면 등수를 출력한다.\n",
        "\n",
        "1등: 당첨번호 6개 모두 일치 </br>\n",
        "2등: 당첨번호 5개 일치하고 보너스 번호 일치 </br>\n",
        "3등: 당첨번호 5개 일치 </br>\n",
        "4등: 당첨번호 4개 일치 </br>\n",
        "5등: 당첨번호 3개 일치 </br>\n",
        "6등: 2개 이하 일치 </br>\n",
        "\n",
        "입출력 예시:\n",
        "```\n",
        "번호를 입력하세요. 3, 45, 23, 8, 11, 14\n",
        "1등\n",
        "```\n",
        "```\n",
        "번호를 입력하세요. 3, 45, 23, 8, 11, 38\n",
        "2등\n",
        "```\n",
        "```\n",
        "번호를 입력하세요. 3, 45, 23, 8, 11, 19\n",
        "3등\n",
        "```"
      ]
    },
    {
      "cell_type": "code",
      "execution_count": null,
      "id": "6c691b06",
      "metadata": {
        "id": "6c691b06",
        "outputId": "5fd79262-0212-4547-aeac-b19ca294e13a"
      },
      "outputs": [
        {
          "name": "stdout",
          "output_type": "stream",
          "text": [
            "번호를 입력하세요. 1, 44, 21, 8, 11, 19\n",
            "6등\n"
          ]
        }
      ],
      "source": [
        "winning_num = [3, 45, 23, 8, 11, 14, 38] # 로또 당첨 번호 6개 + 보너스 당첨 번호 1개 \n",
        "trial = input(\"번호를 입력하세요. \") # 3, 45, 23, 8, 11, 14, 38\n",
        "\n",
        "# 아래에 과제 코드 작성.\n",
        "# trialdml 자료형을 str에서 정수형 요소를 갖는 list로 변환\n",
        "_trial = trial.split(\", \") # ['3', '45', '23', '8', '11', '14', '38']\n",
        "trial = list(map(int, _trial)) # [3, 45, 23, 8, 11, 14, 38]\n",
        "# print(trial)\n",
        "# type(trial)\n",
        "\n",
        "count = 0\n",
        "matched = []\n",
        "\n",
        "for i in trial:\n",
        "    for k in winning_num[0:6]:\n",
        "        if i == k:\n",
        "            count = count + 1\n",
        "            matched.append(k)\n",
        "            break\n",
        "        else:\n",
        "            continue\n",
        "\n",
        "if count < 3:\n",
        "    print(\"6등\")\n",
        "elif count == 3:\n",
        "    print(\"5등\") \n",
        "elif count == 4:\n",
        "    print(\"4등\")\n",
        "elif count == 5:\n",
        "    bonus = winning_num[-1]\n",
        "    ramnant = list(set(trial)-set(matched))\n",
        "    if ramnant[0] != bonus:\n",
        "        print(\"3등\")\n",
        "    else:\n",
        "        print(\"2등\")\n",
        "elif count == 6:\n",
        "    print(\"1등\")\n",
        "            \n",
        "            "
      ]
    }
  ],
  "metadata": {
    "colab": {
      "collapsed_sections": [],
      "provenance": []
    },
    "kernelspec": {
      "display_name": "Python 3 (ipykernel)",
      "language": "python",
      "name": "python3"
    },
    "language_info": {
      "codemirror_mode": {
        "name": "ipython",
        "version": 3
      },
      "file_extension": ".py",
      "mimetype": "text/x-python",
      "name": "python",
      "nbconvert_exporter": "python",
      "pygments_lexer": "ipython3",
      "version": "3.10.7"
    }
  },
  "nbformat": 4,
  "nbformat_minor": 5
}